{
 "cells": [
  {
   "cell_type": "markdown",
   "metadata": {
    "id": "M-DGa20PaHnu"
   },
   "source": [
    "#Задача 1\n",
    "Написать функцию на вход которой подается строка, состоящая из латинских букв.\n",
    "Функция должна вернуть количество гласных букв (a, e, i, o, u) в этой строке. Написать тесты для кода"
   ]
  },
  {
   "cell_type": "code",
   "execution_count": 10,
   "metadata": {
    "id": "XvX8X_JJ6PCb"
   },
   "outputs": [
    {
     "name": "stdout",
     "output_type": "stream",
     "text": [
      "All test cases passed!\n"
     ]
    }
   ],
   "source": [
    "def count_vowels(s):\n",
    "    vowels = \"aeiouAEIOU\"  # Гласные буквы в верхнем и нижнем регистре\n",
    "    count = 0\n",
    "    for char in s:\n",
    "        if char in vowels:\n",
    "            count += 1\n",
    "    return count\n",
    "\n",
    "def test_count_vowels():\n",
    "    assert count_vowels(\"Markova\") == 3, \"Test case 1 failed\"\n",
    "    assert count_vowels(\"Tatiana\") == 4, \"Test case 2 failed\"\n",
    "    assert count_vowels(\"Alexandrovna\") == 5, \"Test case 3 failed\"\n",
    "    print(\"All test cases passed!\")\n",
    "\n",
    "# Запуск тестов\n",
    "test_count_vowels()\n"
   ]
  },
  {
   "cell_type": "markdown",
   "metadata": {
    "id": "t2ClV_Y0bbr6"
   },
   "source": [
    "# Задача 2\n",
    "Написать функцию на вход, которой подается строка. Функция должна вернуть true, если\n",
    "каждый символ в строке встречается только 1 раз, иначе должна вернуть false. Написать тесты для кода"
   ]
  },
  {
   "cell_type": "code",
   "execution_count": 11,
   "metadata": {
    "id": "FppbECao6VIz"
   },
   "outputs": [
    {
     "name": "stdout",
     "output_type": "stream",
     "text": [
      "All test cases passed!\n"
     ]
    }
   ],
   "source": [
    "def has_unique_characters(s):\n",
    "    # Используем множество для хранения уникальных символов\n",
    "    seen = set()\n",
    "    for char in s:\n",
    "        if char in seen:\n",
    "            return False  # Если символ уже встречался, возвращаем False\n",
    "        seen.add(char)\n",
    "    return True  # Если все символы уникальны, возвращаем True\n",
    "def test_has_unique_characters():\n",
    "    assert has_unique_characters(\"abcde\") == True, \"Test case 1 failed\"  # Все символы уникальны\n",
    "    assert has_unique_characters(\"hello\") == False, \"Test case 2 failed\"  # 'l' повторяется\n",
    "    assert has_unique_characters(\"world\") == True, \"Test case 3 failed\"  # Все символы уникальны\n",
    "    assert has_unique_characters(\"Python\") == True, \"Test case 4 failed\"  # Все символы уникальны\n",
    "    assert has_unique_characters(\"aabbcc\") == False, \"Test case 5 failed\"  # Все символы повторяются\n",
    "    assert has_unique_characters(\"\") == True, \"Test case 6 failed\"  # Пустая строка считается уникальной\n",
    "    assert has_unique_characters(\"123456\") == True, \"Test case 7 failed\"  # Все символы уникальны\n",
    "    assert has_unique_characters(\"!@#$%^&*()\") == True, \"Test case 8 failed\"  # Все символы уникальны\n",
    "    assert has_unique_characters(\"abcABC\") == True, \"Test case 9 failed\"  # Все символы уникальны (разные регистры)\n",
    "\n",
    "    print(\"All test cases passed!\")\n",
    "\n",
    "# Запуск тестов\n",
    "test_has_unique_characters()\n"
   ]
  },
  {
   "cell_type": "markdown",
   "metadata": {
    "id": "udRiIK1cdt6E"
   },
   "source": [
    "# Задача 3\n",
    "Написать функцию, которая принимает положительное число и возвращает количество\n",
    "бит равных 1 в этом числе. Написать тесты для кода"
   ]
  },
  {
   "cell_type": "code",
   "execution_count": 34,
   "metadata": {
    "id": "6tkfDJRz6dp_"
   },
   "outputs": [
    {
     "name": "stdout",
     "output_type": "stream",
     "text": [
      "All test cases passed!\n"
     ]
    }
   ],
   "source": [
    "def count_bits(n):\n",
    "    if n < 0:\n",
    "        raise ValueError(\"Input must be a positive integer.\")\n",
    "    return bin(n).count('1')\n",
    "\n",
    "def test_count_bits():\n",
    "    assert count_bits(0) == 0, \"Test case 1 failed\"  # 0 в двоичном виде: 0\n",
    "    assert count_bits(1) == 1, \"Test case 2 failed\"  # 1 в двоичном виде: 1\n",
    "    assert count_bits(2) == 1, \"Test case 3 failed\"  # 2 в двоичном виде: 10\n",
    "    assert count_bits(3) == 2, \"Test case 4 failed\"  # 3 в двоичном виде: 11\n",
    "    assert count_bits(4) == 1, \"Test case 5 failed\"  # 4 в двоичном виде: 100\n",
    "    assert count_bits(5) == 2, \"Test case 6 failed\"  # 5 в двоичном виде: 101\n",
    "    assert count_bits(15) == 4, \"Test case 7 failed\" # 15 в двоичном виде: 1111\n",
    "    assert count_bits(255) == 8, \"Test case 8 failed\" # 255 в двоичном виде: 11111111\n",
    "    assert count_bits(256) == 1, \"Test case 9 failed\" # 256 в двоичном виде: 100000000\n",
    "\n",
    "    print(\"All test cases passed!\")\n",
    "\n",
    "# Запуск тестов\n",
    "test_count_bits()\n",
    "\n"
   ]
  },
  {
   "cell_type": "markdown",
   "metadata": {
    "id": "26dDUz-Ae17N"
   },
   "source": [
    "# Задача 4\n",
    "Написать функцию, которая принимает положительное число. Функция должна вернуть то,\n",
    "сколько раз необходимо перемножать цифры числа или результат перемножения, чтобы\n",
    "получилось число состоящее из одной цифры.\n",
    "Например, для входного числа:\n",
    "· 39 функция должна вернуть 3, так как 3*9=27 => 2*7=14 => 1*4=4\n",
    "· 4 функция должна вернуть 0, так как число уже состоит из одной цифры\n",
    "· 999 функция должна вернуть 4, так как 9*9*9=729 => 7*2*9=126 => 1*2*6=12 =>\n",
    "1*2=2. Написать тесты для кода"
   ]
  },
  {
   "cell_type": "code",
   "execution_count": 16,
   "metadata": {
    "id": "BH1A_Mgi6i4G"
   },
   "outputs": [
    {
     "name": "stdout",
     "output_type": "stream",
     "text": [
      "All test cases passed!\n"
     ]
    }
   ],
   "source": [
    "def magic(n):\n",
    "    if n < 10:\n",
    "        return 0  # Если число уже состоит из одной цифры\n",
    "    \n",
    "    count = 0\n",
    "    \n",
    "    while n >= 10:  # Пока число состоит из более чем одной цифры\n",
    "        product = 1\n",
    "        while n > 0:\n",
    "            product *= n % 10  # Умножаем последнюю цифру\n",
    "            n //= 10  # Убираем последнюю цифру\n",
    "        n = product  # Обновляем n на произведение его цифр\n",
    "        count += 1  # Увеличиваем счетчик\n",
    "        \n",
    "    return count\n",
    "\n",
    "# Тесты для функции\n",
    "def test_magic():\n",
    "    assert magic(39) == 3, \"Test case 1 failed\"  # 39 -> 27 -> 14 -> 4\n",
    "    assert magic(7) == 0, \"Test case 7 failed\"    # 7 уже состоит из одной цифры\n",
    "    assert magic(111) == 1, \"Test case 8 failed\"  # 111 -> 1\n",
    "\n",
    "    print(\"All test cases passed!\")\n",
    "\n",
    "# Запуск тестов\n",
    "test_magic()\n"
   ]
  },
  {
   "cell_type": "markdown",
   "metadata": {
    "id": "0nS-kIa8g8vd"
   },
   "source": [
    "# Задача 5\n",
    "Написать функцию, которая принимает два целочисленных вектора одинаковой длины и\n",
    "возвращает среднеквадратическое отклонение двух векторов. Написать тесты для кода"
   ]
  },
  {
   "cell_type": "code",
   "execution_count": 18,
   "metadata": {
    "id": "8iphx4LM6xbx"
   },
   "outputs": [
    {
     "name": "stdout",
     "output_type": "stream",
     "text": [
      "All test cases passed!\n"
     ]
    }
   ],
   "source": [
    "def mse(pred, true):\n",
    "    if len(pred) != len(true):\n",
    "        raise ValueError(\"Vectors must be of the same length\")\n",
    "    \n",
    "    n = len(pred)\n",
    "    sum_squared_diff = sum((p - t) ** 2 for p, t in zip(pred, true))\n",
    "    return sum_squared_diff / n\n",
    "\n",
    "# Тесты для функции mse\n",
    "def test_mse():\n",
    "    assert mse([1, 2, 3], [1, 2, 3]) == 0.0, \"Test case 1 failed\"  # Идентичные векторы\n",
    "    assert mse([1, 2, 3], [4, 5, 6]) == 9.0, \"Test case 2 failed\"  # Разные векторы\n",
    "    assert mse([0, 0, 0], [0, 0, 0]) == 0.0, \"Test case 3 failed\"  # Нулевые векторы\n",
    "    assert mse([1, 2, 3], [3, 2, 1]) == (8/3), \"Test case 4 failed\"  # Противоположные векторы\n",
    "    assert mse([-1, -2, -3], [-4, -5, -6]) == 9.0, \"Test case 5 failed\"  # Отрицательные векторы\n",
    "    assert mse([1], [2]) == 1.0, \"Test case 6 failed\"  # Векторы длины 1\n",
    "\n",
    "    print(\"All test cases passed!\")\n",
    "\n",
    "# Запуск тестов\n",
    "test_mse()\n",
    "\n"
   ]
  },
  {
   "cell_type": "markdown",
   "metadata": {
    "id": "vpIPKL439zkw"
   },
   "source": [
    "# Задача 6\n",
    "Написать функцию, принимающая целое положительное число. Функция должна вернуть\n",
    "строку вида “(n1**p1)(n2**p2)…(nk**pk)” представляющая разложение числа на простые\n",
    "множители (если pi == 1, то выводить только ni).\n",
    "Например, для числа 86240 функция должна вернуть “(2**5)(5)(7**2)(11)”. Написать тесты для кода"
   ]
  },
  {
   "cell_type": "code",
   "execution_count": 19,
   "metadata": {
    "id": "pFebmcZk94Jw"
   },
   "outputs": [
    {
     "name": "stdout",
     "output_type": "stream",
     "text": [
      "(2**5)(5)(7**2)(11)\n",
      "All test cases passed!\n"
     ]
    }
   ],
   "source": [
    "def prime_factors(n):\n",
    "    \"\"\"Возвращает строку разложения числа n на простые множители.\"\"\"\n",
    "    if n <= 1:\n",
    "        return \"\"\n",
    "    \n",
    "    factors = {}\n",
    "    # Проверяем на количество 2\n",
    "    while n % 2 == 0:\n",
    "        if 2 in factors:\n",
    "            factors[2] += 1\n",
    "        else:\n",
    "            factors[2] = 1\n",
    "        n //= 2\n",
    "    \n",
    "    # Проверяем на нечетные числа\n",
    "    for i in range(3, int(n**0.5) + 1, 2):\n",
    "        while n % i == 0:\n",
    "            if i in factors:\n",
    "                factors[i] += 1\n",
    "            else:\n",
    "                factors[i] = 1\n",
    "            n //= i\n",
    "            \n",
    "    # Если n стало простым числом больше 2\n",
    "    if n > 2:\n",
    "        factors[n] = 1\n",
    "    \n",
    "    # Формируем строку результата\n",
    "    result = []\n",
    "    for p, count in factors.items():\n",
    "        if count == 1:\n",
    "            result.append(f\"({p})\")\n",
    "        else:\n",
    "            result.append(f\"({p}**{count})\")\n",
    "    \n",
    "    return ''.join(result)\n",
    "\n",
    "# Примеры использования\n",
    "print(prime_factors(86240))  # Ожидается: \"(2**5)(5)(7**2)(11)\"\n",
    "\n",
    "# Тесты\n",
    "def test_prime_factors():\n",
    "    assert prime_factors(86240) == \"(2**5)(5)(7**2)(11)\", \"Test case 1 failed\"\n",
    "    assert prime_factors(28) == \"(2**2)(7)\", \"Test case 2 failed\"\n",
    "    assert prime_factors(100) == \"(2**2)(5**2)\", \"Test case 3 failed\"\n",
    "    assert prime_factors(1) == \"\", \"Test case 4 failed\"  # Для 1 нет простых множителей\n",
    "    assert prime_factors(37) == \"(37)\", \"Test case 5 failed\"  # Простое число\n",
    "    assert prime_factors(60) == \"(2**2)(3)(5)\", \"Test case 6 failed\"\n",
    "    \n",
    "    print(\"All test cases passed!\")\n",
    "\n",
    "# Запуск тестов\n",
    "test_prime_factors()\n"
   ]
  },
  {
   "cell_type": "markdown",
   "metadata": {
    "id": "ps2s0BudX7A2"
   },
   "source": [
    "# Задача 7\n",
    "Написать функцию, принимающая целое число n, задающее количество кубиков. Функция\n",
    "должна определить, можно ли из данного кол-ва кубиков построить пирамиду, то есть\n",
    "можно ли представить число n как 1^2+2^2+3^2+…+k^2. Если можно, то функция должна\n",
    "вернуть k, иначе строку “It is impossible”. Написать тесты для кода"
   ]
  },
  {
   "cell_type": "code",
   "execution_count": 25,
   "metadata": {
    "id": "3YPjEXxhX_YT"
   },
   "outputs": [
    {
     "name": "stdout",
     "output_type": "stream",
     "text": [
      "All test cases passed!\n"
     ]
    }
   ],
   "source": [
    "def pyramid(number):\n",
    "    if number < 1:\n",
    "        return \"It is impossible\"\n",
    "    \n",
    "    k = 1\n",
    "    while True:\n",
    "        # Считаем сумму квадратов\n",
    "        sum_of_squares = (k * (k + 1) * (2 * k + 1)) // 6\n",
    "        \n",
    "        if sum_of_squares == number:\n",
    "            return k\n",
    "        elif sum_of_squares > number:\n",
    "            return \"It is impossible\"\n",
    "        \n",
    "        k += 1\n",
    "\n",
    "# Тесты\n",
    "def test_pyramid():\n",
    "    assert pyramid(55) == 5, \"Test case 1 failed\"\n",
    "    assert pyramid(91) == 6, \"Test case 2 failed\"\n",
    "    assert pyramid(0) == \"It is impossible\", \"Test case 3 failed\"  # Невозможно построить пирамиду из 0 кубиков\n",
    "    assert pyramid(-10) == \"It is impossible\", \"Test case 4 failed\"  # Невозможно построить пирамиду из отрицательного количества кубиков\n",
    "    \n",
    "    print(\"All test cases passed!\")\n",
    "\n",
    "# Запуск тестов\n",
    "test_pyramid()\n"
   ]
  },
  {
   "cell_type": "markdown",
   "metadata": {
    "id": "KeKgmIdAQMEJ"
   },
   "source": [
    "# Задача 8\n",
    "Функция принимает на вход положительное число и определяет является ли оно сбалансированным, т.е. сумма цифр до средних равна сумме цифр после. Средними в случае нечетного числа цифр считать одну цифру, в случае четного - две средних. Написать тесты для кода"
   ]
  },
  {
   "cell_type": "code",
   "execution_count": 33,
   "metadata": {
    "id": "gMAAqtqlQrZt"
   },
   "outputs": [
    {
     "name": "stdout",
     "output_type": "stream",
     "text": [
      "All test cases passed!\n"
     ]
    }
   ],
   "source": [
    "def is_balanced(number):\n",
    "    num_str = str(number)\n",
    "    length = len(num_str)\n",
    "\n",
    "    # Определяем середину строки\n",
    "    mid = length // 2\n",
    "\n",
    "    if length % 2 == 0:  # Четное количество цифр\n",
    "        left_part = num_str[:mid]\n",
    "        right_part = num_str[mid:]\n",
    "    else:  # Нечетное количество цифр\n",
    "        left_part = num_str[:mid]\n",
    "        right_part = num_str[mid + 1:]\n",
    "\n",
    "    # Считаем суммы цифр\n",
    "    sum_left = sum(int(digit) for digit in left_part)\n",
    "    sum_right = sum(int(digit) for digit in right_part)\n",
    "\n",
    "    return sum_left == sum_right\n",
    "\n",
    "# Тесты\n",
    "def test_is_balanced():\n",
    "    assert is_balanced(123321) == True, \"Test case 1 failed\"\n",
    "    assert is_balanced(123456) == False, \"Test case 2 failed\"\n",
    "    assert is_balanced(12321) == True, \"Test case 3 failed\"\n",
    "    assert is_balanced(12345) == False, \"Test case 4 failed\"\n",
    "    assert is_balanced(0) == True, \"Test case 5 failed\"  # Сумма цифр до и после 0 равны (0=0)\n",
    "    assert is_balanced(123456789) == False, \"Test case 6 failed\"  # Нечетное число, не сбалансировано\n",
    "\n",
    "    print(\"All test cases passed!\")\n",
    "\n",
    "# Запуск тестов\n",
    "test_is_balanced()\n",
    "\n"
   ]
  },
  {
   "cell_type": "code",
   "execution_count": null,
   "metadata": {},
   "outputs": [],
   "source": []
  }
 ],
 "metadata": {
  "colab": {
   "provenance": []
  },
  "kernelspec": {
   "display_name": "Python 3 (ipykernel)",
   "language": "python",
   "name": "python3"
  },
  "language_info": {
   "codemirror_mode": {
    "name": "ipython",
    "version": 3
   },
   "file_extension": ".py",
   "mimetype": "text/x-python",
   "name": "python",
   "nbconvert_exporter": "python",
   "pygments_lexer": "ipython3",
   "version": "3.12.7"
  }
 },
 "nbformat": 4,
 "nbformat_minor": 4
}
